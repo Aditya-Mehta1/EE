{
 "cells": [
  {
   "cell_type": "code",
   "execution_count": 4,
   "metadata": {},
   "outputs": [],
   "source": [
    "import numpy as np\n",
    "import pandas as pd\n",
    "global all_wordle_words\n",
    "import scipy.stats\n",
    "import itertools\n",
    "import wordfreq \n",
    "from functools import cache\n",
    "\n",
    "#Only Acceptable Wordle Guesses\n",
    "url = \"https://raw.githubusercontent.com/lightbulbsocks/Rank-One-Wordle/main/All%20Acceptable%20Wordle%20Words.csv\"\n",
    "\n",
    "df1 = pd.read_csv(url,engine='python')\n",
    "\n",
    "df2 = pd.read_csv('official_wordle_common.csv', engine = 'python')\n",
    "\n",
    "all_wordle_words = []\n",
    "for i in range(0,np.size(df1)):\n",
    "        all_wordle_words.append(df1.iat[i,0].upper())\n",
    "\n",
    "possible_wordle_words = []\n",
    "for i in range(0,np.size(df2)):\n",
    "        possible_wordle_words.append(df2.iat[i,0].upper())"
   ]
  },
  {
   "cell_type": "code",
   "execution_count": 12,
   "metadata": {},
   "outputs": [],
   "source": [
    "possible_words = all_wordle_words.copy()\n",
    "\n",
    "def edit_possible_words(possible_words, green, yellow, grey):\n",
    "    copy = possible_words\n",
    "    for (x,y) in green:\n",
    "        for word in possible_words[:]:\n",
    "            if word[y] == x: \n",
    "                pass\n",
    "            else:\n",
    "                copy.remove(word)\n",
    "    \n",
    "    for (x,y) in yellow:\n",
    "        for word in possible_words[:]:\n",
    "            if x in word: \n",
    "                if word[y] == x: \n",
    "                    copy.remove(word)\n",
    "                else:\n",
    "                    pass\n",
    "            else:\n",
    "                copy.remove(word)\n",
    "    \n",
    "    for x in grey:\n",
    "        for word in possible_words[:]:\n",
    "            if x in word:\n",
    "                copy.remove(word)\n",
    "        \n",
    "    return copy\n",
    "\n",
    "def det_conds(guess, secret_word):\n",
    "    #get greys\n",
    "    grey = []\n",
    "    for x in guess:\n",
    "        if x in secret_word:\n",
    "            pass\n",
    "        else:\n",
    "            grey.append(x)\n",
    "\n",
    "    #get greens \n",
    "    green = []\n",
    "    yellow = []\n",
    "    for i in [0,1,2,3,4]:\n",
    "        if guess[i] == secret_word[i]:\n",
    "            green.append((guess[i], i))\n",
    "        else:\n",
    "            if guess[i] in grey:\n",
    "                pass\n",
    "            else:\n",
    "                yellow.append((guess[i], i))\n",
    "\n",
    "    return green, yellow, grey\n",
    "\n"
   ]
  },
  {
   "cell_type": "code",
   "execution_count": 23,
   "metadata": {},
   "outputs": [],
   "source": [
    "def make_random_guess(possible_words):\n",
    "    num_guess = random.choice(range(0, len(possible_words)))\n",
    "    return possible_words[num_guess]\n",
    "\n",
    "def R(secret_word):\n",
    "    guess = ''\n",
    "    attempt = 1\n",
    "    possible_words = all_wordle_words.copy()\n",
    "    possible_wordle_words2 = possible_wordle_words.copy()\n",
    "\n",
    "    while True:\n",
    "        print('Attempt:', attempt)\n",
    "\n",
    "        guess = make_random_guess(possible_wordle_words)\n",
    "        \n",
    "\n",
    "        print('GUESSED ' , guess)\n",
    "\n",
    "        green, yellow, grey = det_conds(guess, secret_word)\n",
    "        possible_words = edit_possible_words(possible_words, green, yellow, grey)\n",
    "        possible_wordle_words2 = edit_possible_words(possible_wordle_words2, green, yellow, grey)    \n",
    "        print('-----------------------------------------------------------------------------------')\n",
    "        if guess == secret_word:\n",
    "                break\n",
    "        else:\n",
    "            attempt += 1\n",
    "    print('GUESSED IN ' + str(attempt) + ' ATTEMPTS')\n",
    "    print('-----------------------------------------------------------------------------------')\n",
    "    return attempt\n"
   ]
  },
  {
   "cell_type": "code",
   "execution_count": 21,
   "metadata": {},
   "outputs": [
    {
     "name": "stdout",
     "output_type": "stream",
     "text": [
      "Attempt: 1\n",
      "2310\n",
      "GUESSED  R\n"
     ]
    },
    {
     "ename": "IndexError",
     "evalue": "string index out of range",
     "output_type": "error",
     "traceback": [
      "\u001b[0;31m---------------------------------------------------------------------------\u001b[0m",
      "\u001b[0;31mIndexError\u001b[0m                                Traceback (most recent call last)",
      "\u001b[1;32m/Users/aditya/Desktop/School/Extended Essay/benchmark.ipynb Cell 4\u001b[0m in \u001b[0;36m<cell line: 1>\u001b[0;34m()\u001b[0m\n\u001b[0;32m----> <a href='vscode-notebook-cell:/Users/aditya/Desktop/School/Extended%20Essay/benchmark.ipynb#W3sZmlsZQ%3D%3D?line=0'>1</a>\u001b[0m R(\u001b[39m'\u001b[39;49m\u001b[39mLEVEL\u001b[39;49m\u001b[39m'\u001b[39;49m)\n",
      "\u001b[1;32m/Users/aditya/Desktop/School/Extended Essay/benchmark.ipynb Cell 4\u001b[0m in \u001b[0;36mR\u001b[0;34m(secret_word)\u001b[0m\n\u001b[1;32m     <a href='vscode-notebook-cell:/Users/aditya/Desktop/School/Extended%20Essay/benchmark.ipynb#W3sZmlsZQ%3D%3D?line=14'>15</a>\u001b[0m guess \u001b[39m=\u001b[39m make_random_guess(possible_wordle_words)\n\u001b[1;32m     <a href='vscode-notebook-cell:/Users/aditya/Desktop/School/Extended%20Essay/benchmark.ipynb#W3sZmlsZQ%3D%3D?line=17'>18</a>\u001b[0m \u001b[39mprint\u001b[39m(\u001b[39m'\u001b[39m\u001b[39mGUESSED \u001b[39m\u001b[39m'\u001b[39m , guess[\u001b[39m0\u001b[39m])\n\u001b[0;32m---> <a href='vscode-notebook-cell:/Users/aditya/Desktop/School/Extended%20Essay/benchmark.ipynb#W3sZmlsZQ%3D%3D?line=18'>19</a>\u001b[0m green, yellow, grey \u001b[39m=\u001b[39m det_conds(guess[\u001b[39m0\u001b[39;49m], secret_word)\n\u001b[1;32m     <a href='vscode-notebook-cell:/Users/aditya/Desktop/School/Extended%20Essay/benchmark.ipynb#W3sZmlsZQ%3D%3D?line=19'>20</a>\u001b[0m possible_words \u001b[39m=\u001b[39m edit_possible_words(possible_words, green, yellow, grey)\n\u001b[1;32m     <a href='vscode-notebook-cell:/Users/aditya/Desktop/School/Extended%20Essay/benchmark.ipynb#W3sZmlsZQ%3D%3D?line=20'>21</a>\u001b[0m possible_wordle_words2 \u001b[39m=\u001b[39m edit_possible_words(possible_wordle_words2, green, yellow, grey)    \n",
      "\u001b[1;32m/Users/aditya/Desktop/School/Extended Essay/benchmark.ipynb Cell 4\u001b[0m in \u001b[0;36mdet_conds\u001b[0;34m(guess, secret_word)\u001b[0m\n\u001b[1;32m     <a href='vscode-notebook-cell:/Users/aditya/Desktop/School/Extended%20Essay/benchmark.ipynb#W3sZmlsZQ%3D%3D?line=39'>40</a>\u001b[0m yellow \u001b[39m=\u001b[39m []\n\u001b[1;32m     <a href='vscode-notebook-cell:/Users/aditya/Desktop/School/Extended%20Essay/benchmark.ipynb#W3sZmlsZQ%3D%3D?line=40'>41</a>\u001b[0m \u001b[39mfor\u001b[39;00m i \u001b[39min\u001b[39;00m [\u001b[39m0\u001b[39m,\u001b[39m1\u001b[39m,\u001b[39m2\u001b[39m,\u001b[39m3\u001b[39m,\u001b[39m4\u001b[39m]:\n\u001b[0;32m---> <a href='vscode-notebook-cell:/Users/aditya/Desktop/School/Extended%20Essay/benchmark.ipynb#W3sZmlsZQ%3D%3D?line=41'>42</a>\u001b[0m     \u001b[39mif\u001b[39;00m guess[i] \u001b[39m==\u001b[39m secret_word[i]:\n\u001b[1;32m     <a href='vscode-notebook-cell:/Users/aditya/Desktop/School/Extended%20Essay/benchmark.ipynb#W3sZmlsZQ%3D%3D?line=42'>43</a>\u001b[0m         green\u001b[39m.\u001b[39mappend((guess[i], i))\n\u001b[1;32m     <a href='vscode-notebook-cell:/Users/aditya/Desktop/School/Extended%20Essay/benchmark.ipynb#W3sZmlsZQ%3D%3D?line=43'>44</a>\u001b[0m     \u001b[39melse\u001b[39;00m:\n",
      "\u001b[0;31mIndexError\u001b[0m: string index out of range"
     ]
    }
   ],
   "source": [
    "R('LEVEL')"
   ]
  },
  {
   "cell_type": "code",
   "execution_count": null,
   "metadata": {},
   "outputs": [],
   "source": []
  }
 ],
 "metadata": {
  "kernelspec": {
   "display_name": "Python 3.9.12 ('Mouthscope2')",
   "language": "python",
   "name": "python3"
  },
  "language_info": {
   "codemirror_mode": {
    "name": "ipython",
    "version": 3
   },
   "file_extension": ".py",
   "mimetype": "text/x-python",
   "name": "python",
   "nbconvert_exporter": "python",
   "pygments_lexer": "ipython3",
   "version": "3.9.12"
  },
  "orig_nbformat": 4,
  "vscode": {
   "interpreter": {
    "hash": "784613dfce0de99fab23468e8514eb7b2703e77ff30feb02e4364576cc542f6d"
   }
  }
 },
 "nbformat": 4,
 "nbformat_minor": 2
}
