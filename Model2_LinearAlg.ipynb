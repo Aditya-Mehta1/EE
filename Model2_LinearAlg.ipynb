{
 "cells": [
  {
   "cell_type": "code",
   "execution_count": 3,
   "metadata": {},
   "outputs": [],
   "source": [
    "import numpy as np\n",
    "import pandas as pd\n",
    "import wordfreq \n",
    "global possibles, must_haves, all_wordle_words\n",
    "\n",
    "#Only Acceptable Wordle Guesses\n",
    "url = \"https://raw.githubusercontent.com/lightbulbsocks/Rank-One-Wordle/main/All%20Acceptable%20Wordle%20Words.csv\"\n",
    "\n",
    "df1 = pd.read_csv(url,engine='python')\n",
    "\n",
    "all_wordle_words = []\n",
    "for i in range(0,np.size(df1)):\n",
    "        all_wordle_words.append(df1.iat[i,0].upper())"
   ]
  },
  {
   "cell_type": "code",
   "execution_count": 4,
   "metadata": {},
   "outputs": [],
   "source": [
    "possible_words = all_wordle_words.copy()\n",
    "\n",
    "def word_to_vector_loc_mat(word):\n",
    "     array = np.zeros((130,1))\n",
    "     for i in range(0,5):\n",
    "          array[ord(word[i]) - 65 + i*26] = 1\n",
    "     freq = wordfreq.word_frequency(word, 'en')\n",
    "     return array*freq\n",
    "   \n",
    "\n",
    "def rank_one_approx(possible_words):\n",
    "    A = word_to_vector_loc_mat(possible_words[0])\n",
    "    for word in possible_words:\n",
    "        A = np.concatenate((A,word_to_vector_loc_mat(word)),1)                  \n",
    "    \n",
    "    A = np.delete(A,0,1)    \n",
    "    AAt = np.matmul(A,np.matrix.transpose(A))\n",
    "    w,v = np.linalg.eigh(AAt)\n",
    "    dom1 = np.abs(v[:,-1])\n",
    "    return dom1, A\n",
    "\n",
    "def find_best_guess(possible_words):\n",
    "\n",
    "    angle_vector = np.array([])\n",
    "    angle_min = 90\n",
    "\n",
    "    dom1, A = rank_one_approx(possible_words)\n",
    "\n",
    "    for i in range(0,len(possible_words)):\n",
    "        angle1 = np.arccos(np.matmul(A[:,i],dom1)/(np.linalg.norm(A[:,i])))\n",
    "        \n",
    "        if np.isnan(angle1):\n",
    "            angle1 = np.pi / 2\n",
    "        \n",
    "        angle_vector = np.append(angle_vector,angle1*180/np.pi)\n",
    "\n",
    "        if np.abs(angle1) < angle_min:\n",
    "            angle_min = angle1\n",
    "\n",
    "    best_words = np.array(possible_words)[angle_vector.argsort()]\n",
    "    angle_vector = angle_vector[angle_vector.argsort()]\n",
    "    return best_words,angle_vector\n",
    "\n",
    "def edit_possible_words(possible_words, green, yellow, grey):\n",
    "    copy = possible_words\n",
    "    for (x,y) in green:\n",
    "        for word in possible_words[:]:\n",
    "            if word[y] == x: \n",
    "                pass\n",
    "            else:\n",
    "                copy.remove(word)\n",
    "    \n",
    "    for (x,y) in yellow:\n",
    "        for word in possible_words[:]:\n",
    "            if x in word: \n",
    "                if word[y] == x: \n",
    "                    copy.remove(word)\n",
    "                else:\n",
    "                    pass\n",
    "            else:\n",
    "                copy.remove(word)\n",
    "    \n",
    "    for x in grey:\n",
    "        for word in possible_words[:]:\n",
    "            if x in word:\n",
    "                copy.remove(word)\n",
    "        \n",
    "    return copy\n",
    "\n",
    "def det_conds(guess, secret_word):\n",
    "    #get greys\n",
    "    grey = []\n",
    "    for x in guess:\n",
    "        if x in secret_word:\n",
    "            pass\n",
    "        else:\n",
    "            grey.append(x)\n",
    "\n",
    "    #get greens \n",
    "    green = []\n",
    "    yellow = []\n",
    "    for i in [0,1,2,3,4]:\n",
    "        if guess[i] == secret_word[i]:\n",
    "            green.append((guess[i], i))\n",
    "        else:\n",
    "            if guess[i] in grey:\n",
    "                pass\n",
    "            else:\n",
    "                yellow.append((guess[i], i))\n",
    "\n",
    "    return green, yellow, grey\n"
   ]
  },
  {
   "cell_type": "code",
   "execution_count": 5,
   "metadata": {},
   "outputs": [
    {
     "name": "stderr",
     "output_type": "stream",
     "text": [
      "/var/folders/wb/k2nttrg10dv0x7r4j0tp7g0c0000gn/T/ipykernel_11651/1086611585.py:30: RuntimeWarning: invalid value encountered in double_scalars\n",
      "  angle1 = np.arccos(np.matmul(A[:,i],dom1)/(np.linalg.norm(A[:,i])))\n"
     ]
    },
    {
     "data": {
      "text/plain": [
       "(array(['THERE', 'THESE', 'THEIR', ..., 'LEEPS', 'LAPJE', 'ZYMIC'],\n",
       "       dtype='<U5'),\n",
       " array([29.68709205, 36.1094521 , 36.7497269 , ..., 90.        ,\n",
       "        90.        , 90.        ]))"
      ]
     },
     "execution_count": 5,
     "metadata": {},
     "output_type": "execute_result"
    }
   ],
   "source": [
    "find_best_guess(possible_words)"
   ]
  },
  {
   "cell_type": "code",
   "execution_count": 6,
   "metadata": {},
   "outputs": [],
   "source": [
    "def guess_word(secret_word):\n",
    "    global possible_words\n",
    "    possible_words = all_wordle_words.copy()\n",
    "    guess = ''\n",
    "    count = 1\n",
    "    while guess != secret_word:\n",
    "        best_words, angle_vector = find_best_guess(possible_words)\n",
    "        print('----------------------------------------------------')\n",
    "        print('ATTEMPT NUMBER ' + str(count))\n",
    "        if len(best_words) < 5:\n",
    "            print('Top Guesses are : ')\n",
    "            for i in range(0,len(best_words)):\n",
    "                print(best_words[i] + ' ' + str(angle_vector[i]))\n",
    "        else: \n",
    "            print('Top 5 Guesses are : ')\n",
    "            for i in range(0,5):\n",
    "                print(best_words[i] + ' ' + str(angle_vector[i]))\n",
    "        guess = best_words[0]\n",
    "        print('GUESS IS : ' + guess)\n",
    "        print('----------------------------------------------------')\n",
    "        green, yellow, grey = det_conds(guess, secret_word)\n",
    "        possible_words = edit_possible_words(possible_words, green, yellow, grey)\n",
    "        count += 1\n",
    "    count -= 1\n",
    "    print('Guessed in: ' + str(count) + ' attempts')"
   ]
  },
  {
   "cell_type": "code",
   "execution_count": 7,
   "metadata": {},
   "outputs": [],
   "source": [
    "def guess_words(possible_words, secret_words):\n",
    "    lst = []\n",
    "    for secret_word in secret_words:\n",
    "        guess = ''\n",
    "        count = 1\n",
    "        possible_words = all_wordle_words.copy()\n",
    "        while guess != secret_word:\n",
    "            best_words, angle_vector = find_best_guess(possible_words)\n",
    "            print('----------------------------------------------------')\n",
    "            print('ATTEMPT NUMBER ' + str(count))\n",
    "            if len(best_words) < 5:\n",
    "                print('Top Guesses are : ')\n",
    "                for i in range(0,len(best_words)):\n",
    "                    print(best_words[i] + ' ' + str(angle_vector[i]))\n",
    "            else: \n",
    "                print('Top 5 Guesses are : ')\n",
    "                for i in range(0,5):\n",
    "                    print(best_words[i] + ' ' + str(angle_vector[i]))\n",
    "            guess = best_words[0]\n",
    "            print('GUESS IS : ' + guess)\n",
    "            print('----------------------------------------------------')\n",
    "            green, yellow, grey = det_conds(guess, secret_word)\n",
    "            possible_words = edit_possible_words(possible_words, green, yellow, grey)\n",
    "            count += 1\n",
    "        count -= 1\n",
    "        print('Guessed in: ' + str(count) + ' attempts')\n",
    "        lst.append(count)\n",
    "    return lst"
   ]
  },
  {
   "cell_type": "code",
   "execution_count": 8,
   "metadata": {},
   "outputs": [
    {
     "name": "stderr",
     "output_type": "stream",
     "text": [
      "/var/folders/wb/k2nttrg10dv0x7r4j0tp7g0c0000gn/T/ipykernel_11651/1086611585.py:30: RuntimeWarning: invalid value encountered in double_scalars\n",
      "  angle1 = np.arccos(np.matmul(A[:,i],dom1)/(np.linalg.norm(A[:,i])))\n"
     ]
    },
    {
     "name": "stdout",
     "output_type": "stream",
     "text": [
      "----------------------------------------------------\n",
      "ATTEMPT NUMBER 1\n",
      "Top 5 Guesses are : \n",
      "THERE 29.68709205186252\n",
      "THESE 36.10945210389861\n",
      "THEIR 36.74972690374557\n",
      "THETE 38.779771227692734\n",
      "THEME 39.04666173232942\n",
      "GUESS IS : THERE\n",
      "----------------------------------------------------\n",
      "----------------------------------------------------\n",
      "ATTEMPT NUMBER 2\n",
      "Top 5 Guesses are : \n",
      "HAPPY 36.192364205585555\n",
      "HUMPY 41.94117447438371\n",
      "HUMAN 44.33516419918546\n",
      "HAPLY 46.8621330528271\n",
      "HAPPI 46.96339591383444\n",
      "GUESS IS : HAPPY\n",
      "----------------------------------------------------\n",
      "----------------------------------------------------\n",
      "ATTEMPT NUMBER 3\n",
      "Top 5 Guesses are : \n",
      "PUNCH 2.255273326106609\n",
      "PINCH 34.697711658000784\n",
      "PILCH 51.567705456265735\n",
      "POUCH 52.06815380592639\n",
      "POOCH 52.250177673765556\n",
      "GUESS IS : PUNCH\n",
      "----------------------------------------------------\n",
      "----------------------------------------------------\n",
      "ATTEMPT NUMBER 4\n",
      "Top Guesses are : \n",
      "POUCH 0.0\n",
      "GUESS IS : POUCH\n",
      "----------------------------------------------------\n",
      "Guessed in: 5 attempts\n"
     ]
    }
   ],
   "source": [
    "guess_word('POUCH')"
   ]
  },
  {
   "cell_type": "code",
   "execution_count": null,
   "metadata": {},
   "outputs": [],
   "source": []
  }
 ],
 "metadata": {
  "kernelspec": {
   "display_name": "Python 3.9.12 ('Mouthscope2')",
   "language": "python",
   "name": "python3"
  },
  "language_info": {
   "codemirror_mode": {
    "name": "ipython",
    "version": 3
   },
   "file_extension": ".py",
   "mimetype": "text/x-python",
   "name": "python",
   "nbconvert_exporter": "python",
   "pygments_lexer": "ipython3",
   "version": "3.9.12"
  },
  "orig_nbformat": 4,
  "vscode": {
   "interpreter": {
    "hash": "784613dfce0de99fab23468e8514eb7b2703e77ff30feb02e4364576cc542f6d"
   }
  }
 },
 "nbformat": 4,
 "nbformat_minor": 2
}
